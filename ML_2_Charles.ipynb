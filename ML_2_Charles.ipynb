{
  "nbformat": 4,
  "nbformat_minor": 0,
  "metadata": {
    "colab": {
      "name": "ML_2_Charles.ipynb",
      "version": "0.3.2",
      "provenance": [],
      "collapsed_sections": [],
      "include_colab_link": true
    },
    "kernelspec": {
      "name": "python3",
      "display_name": "Python 3"
    }
  },
  "cells": [
    {
      "cell_type": "markdown",
      "metadata": {
        "id": "view-in-github",
        "colab_type": "text"
      },
      "source": [
        "<a href=\"https://colab.research.google.com/github/charlesthiebaut/ChronoBot/blob/master/ML_2_Charles.ipynb\" target=\"_parent\"><img src=\"https://colab.research.google.com/assets/colab-badge.svg\" alt=\"Open In Colab\"/></a>"
      ]
    },
    {
      "metadata": {
        "id": "fXRO4mIIpe_V",
        "colab_type": "code",
        "colab": {
          "base_uri": "https://localhost:8080/",
          "height": 221
        },
        "outputId": "871cd606-991b-4d22-8221-ade8e4af0b87"
      },
      "cell_type": "code",
      "source": [
        "# Basic install needed everytimes for now (with colab)\n",
        "#@title\n",
        "!pip install -U -q PyDrive\n",
        "import os\n",
        "from pydrive.auth import GoogleAuth\n",
        "from pydrive.drive import GoogleDrive\n",
        "from google.colab import auth\n",
        "from oauth2client.client import GoogleCredentials\n",
        "\n",
        "# 1. Authenticate and create the PyDrive client.\n",
        "auth.authenticate_user()\n",
        "gauth = GoogleAuth()\n",
        "gauth.credentials = GoogleCredentials.get_application_default()\n",
        "drive = GoogleDrive(gauth)\n",
        "\n",
        "# choose a local (colab) directory to store the data.\n",
        "local_download_path = os.path.expanduser('~/')\n",
        "try:\n",
        "  os.makedirs(local_download_path)\n",
        "except: pass\n",
        "\n",
        "# 2. Auto-iterate using the query syntax\n",
        "#    https://developers.google.com/drive/v2/web/search-parameters\n",
        "file_list = drive.ListFile(\n",
        "    {'q': \"'10cgpAHr5zT_dtqPLY5xURqg25GQ7DuyO' in parents\"}).GetList()\n",
        "\n",
        "for f in file_list:\n",
        "  # 3. Create & download by id.\n",
        "  print('title: %s, id: %s' % (f['title'], f['id']))\n",
        "  fname = os.path.join(local_download_path, f['title'])\n",
        "  print('downloading to {}'.format(fname))\n",
        "  f_ = drive.CreateFile({'id': f['id']})\n",
        "  f_.GetContentFile(fname)\n",
        "\n",
        "\n",
        "with open(fname, 'r') as f:\n",
        "  f.read()\n",
        "  \n",
        "import sys"
      ],
      "execution_count": 1,
      "outputs": [
        {
          "output_type": "stream",
          "text": [
            "title: train_pos_full.txt, id: 1rKLSAfDANUvRl0h4-8hbsTWUQn_4FAz7\n",
            "downloading to /root/train_pos_full.txt\n",
            "title: train_neg.txt, id: 1H0b_ig9wuVkTTYpGgAQI9JrwGKbjT9M1\n",
            "downloading to /root/train_neg.txt\n",
            "title: train_pos.txt, id: 10CFcvYWMZWAqif5rzk3SQykGyfZKkCAd\n",
            "downloading to /root/train_pos.txt\n",
            "title: train_neg_full.txt, id: 1tomx2YHn2pB1dLVs8YAPft-glGsGABgR\n",
            "downloading to /root/train_neg_full.txt\n",
            "title: sample_submission.csv, id: 1zG5lvNYY4ZyAe61wJzpAXUbwPTFYLtur\n",
            "downloading to /root/sample_submission.csv\n",
            "title: test_data.txt, id: 1uO0ffQz_6O7ckvYHZMr-dtk0QMUK2Vd5\n",
            "downloading to /root/test_data.txt\n"
          ],
          "name": "stdout"
        }
      ]
    },
    {
      "metadata": {
        "id": "_FQv-8mep_xh",
        "colab_type": "code",
        "colab": {}
      },
      "cell_type": "code",
      "source": [
        ""
      ],
      "execution_count": 0,
      "outputs": []
    }
  ]
}